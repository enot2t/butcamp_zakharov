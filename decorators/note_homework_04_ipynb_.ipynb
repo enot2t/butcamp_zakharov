{
  "nbformat": 4,
  "nbformat_minor": 0,
  "metadata": {
    "colab": {
      "provenance": []
    },
    "kernelspec": {
      "name": "python3",
      "display_name": "Python 3"
    },
    "language_info": {
      "name": "python"
    }
  },
  "cells": [
    {
      "cell_type": "markdown",
      "source": [
        "# Домашнее задание: декораторы"
      ],
      "metadata": {
        "id": "QY4qPJPpgyIS"
      }
    },
    {
      "cell_type": "markdown",
      "source": [
        "## Импорт библиотек, установка констант"
      ],
      "metadata": {
        "id": "Chacc6YchldZ"
      }
    },
    {
      "cell_type": "code",
      "source": [
        "import requests\n",
        "import time\n",
        "import re\n",
        "\n",
        "from random import randint"
      ],
      "metadata": {
        "id": "w8iKrWvwhrFd"
      },
      "execution_count": 1,
      "outputs": []
    },
    {
      "cell_type": "code",
      "source": [
        "BOOK_PATH = 'https://www.gutenberg.org/files/2638/2638-0.txt'"
      ],
      "metadata": {
        "id": "-LRkS0fSi8Np"
      },
      "execution_count": 2,
      "outputs": []
    },
    {
      "cell_type": "markdown",
      "source": [
        "## Задание 1"
      ],
      "metadata": {
        "id": "kARfL8ifg4MH"
      }
    },
    {
      "cell_type": "code",
      "execution_count": 3,
      "metadata": {
        "id": "hNHNWPhngrUl"
      },
      "outputs": [],
      "source": [
        "def benchmark(func):\n",
        "    \"\"\"\n",
        "    Декоратор, выводящий время, которое заняло выполнение декорируемой функции\n",
        "    \"\"\"\n",
        "\n",
        "    def wrapper(*args, **kwargs):\n",
        "        start = time.perf_counter()\n",
        "        result = func(*args, **kwargs)\n",
        "        end = time.perf_counter()\n",
        "        print (f'Время выполнения функции {func.__name__}: {end - start:.6f}')\n",
        "        print()\n",
        "        return result\n",
        "\n",
        "    return wrapper"
      ]
    },
    {
      "cell_type": "markdown",
      "source": [
        "## Задание 2"
      ],
      "metadata": {
        "id": "tGlbUKjihL5n"
      }
    },
    {
      "cell_type": "code",
      "source": [
        "def logging(func):\n",
        "    \"\"\"\n",
        "    Декоратор, который выводит параметры с которыми была вызвана функция\n",
        "    \"\"\"\n",
        "\n",
        "    def wrapper(*args, **kwargs):\n",
        "        result = func(*args, **kwargs)\n",
        "        print('Функция вызвана с параметрами:')\n",
        "        print (args, kwargs)\n",
        "        print()\n",
        "        return result\n",
        "\n",
        "    return wrapper"
      ],
      "metadata": {
        "id": "wugOZDLqhNe-"
      },
      "execution_count": 4,
      "outputs": []
    },
    {
      "cell_type": "markdown",
      "source": [
        "## Задание 3"
      ],
      "metadata": {
        "id": "Sq1tv5fshTfv"
      }
    },
    {
      "cell_type": "code",
      "source": [
        "def counter(func):\n",
        "    \"\"\"\n",
        "    Декоратор, считающий и выводящий количество вызовов декорируемой функции\n",
        "    \"\"\"\n",
        "\n",
        "    def wrapper(*args, **kwargs):\n",
        "        result = func(*args, **kwargs)\n",
        "        wrapper.cntr += 1\n",
        "        print(f'Функция была вызвана: {wrapper.cntr} раз')\n",
        "        print()\n",
        "        return result\n",
        "\n",
        "\n",
        "    wrapper.cntr = 0\n",
        "\n",
        "    return wrapper"
      ],
      "metadata": {
        "id": "9nyvuxXkhVeb"
      },
      "execution_count": 5,
      "outputs": []
    },
    {
      "cell_type": "markdown",
      "source": [
        "## Задание 4"
      ],
      "metadata": {
        "id": "uHn8Adfshz5q"
      }
    },
    {
      "cell_type": "code",
      "source": [
        "def memo(func):\n",
        "  \"\"\"\n",
        "  Декоратор, запоминающий результаты исполнения функции func, чьи аргументы args должны быть хешируемыми\n",
        "  \"\"\"\n",
        "  cache = {}\n",
        "\n",
        "  def fmemo(*args):\n",
        "      if args in cache:\n",
        "          return cache[args]\n",
        "      result = func(*args)\n",
        "      cache[args] = result\n",
        "      return result\n",
        "\n",
        "  fmemo.cache = cache\n",
        "  return fmemo"
      ],
      "metadata": {
        "id": "R7uu6WtGifNX"
      },
      "execution_count": 232,
      "outputs": []
    },
    {
      "cell_type": "markdown",
      "source": [
        "## Тестирование"
      ],
      "metadata": {
        "id": "Zn5UQCa_izxo"
      }
    },
    {
      "cell_type": "code",
      "source": [
        "@counter\n",
        "@logging\n",
        "@benchmark\n",
        "def word_count(word, url=BOOK_PATH):\n",
        "    \"\"\"\n",
        "    Функция для посчета указанного слова на html-странице\n",
        "    \"\"\"\n",
        "\n",
        "    # отправляем запрос в библиотеку Gutenberg и забираем текст\n",
        "    raw = requests.get(url).text\n",
        "\n",
        "    # заменяем в тексте все небуквенные символы на пробелы\n",
        "    processed_book = re.sub('[\\W]+' , ' ', raw).lower()\n",
        "\n",
        "    # считаем\n",
        "    cnt = len(re.findall(word.lower(), processed_book))\n",
        "\n",
        "    return f\"Cлово {word} встречается {cnt} раз\"\n",
        "\n",
        "\n",
        "print(word_count('whole'))\n",
        "#print(word_count.cntr)"
      ],
      "metadata": {
        "id": "CHCJ64I8i2QB",
        "colab": {
          "base_uri": "https://localhost:8080/"
        },
        "outputId": "3d0acdf4-99e1-4f8d-9e06-6a7a940932c7"
      },
      "execution_count": null,
      "outputs": [
        {
          "output_type": "stream",
          "name": "stdout",
          "text": [
            "Время выполнения функции word_count: 1.326617\n",
            "\n",
            "Функция вызвана с параметрами:\n",
            "('whole',) {}\n",
            "\n",
            "Функция была вызвана: 1 раз\n",
            "\n",
            "Cлово whole встречается 176 раз\n"
          ]
        }
      ]
    },
    {
      "cell_type": "code",
      "source": [
        "# модифицирую функцию benchmark, чтобы она считала общее время выполнениф функции\n",
        "# именно для рекурсии вывод общего времени осуществляется с помощью еще одного print() в конце\n",
        "def benchmark_fib(func):\n",
        "    \"\"\"\n",
        "    Декоратор, считающий время, которое заняло выполнение декорируемой функции\n",
        "    \"\"\"\n",
        "    def wrapper(*args, **kwargs):\n",
        "        start = time.time()\n",
        "        result = func(*args, **kwargs)\n",
        "        end = time.time()\n",
        "        dur = round(end - start, 6)\n",
        "        wrapper.at += dur\n",
        "        return result\n",
        "\n",
        "    wrapper.at =0\n",
        "    return wrapper"
      ],
      "metadata": {
        "id": "D61zX22N14g6"
      },
      "execution_count": 203,
      "outputs": []
    },
    {
      "cell_type": "code",
      "source": [
        "def fib(n):\n",
        "    if n < 2:\n",
        "        return n\n",
        "    return fib(n-2) + fib(n-1)"
      ],
      "metadata": {
        "id": "-1HC3OL-FWUH"
      },
      "execution_count": null,
      "outputs": []
    },
    {
      "cell_type": "code",
      "source": [
        "# измеряем время выполнения с помощью изначального benchmark\n",
        "@benchmark\n",
        "def fib(n):\n",
        "    if n < 2:\n",
        "        return n\n",
        "    return fib(n-2) + fib(n-1)\n",
        "\n",
        "print(f\"Число Фибоначии: {fib(5)}\")"
      ],
      "metadata": {
        "colab": {
          "base_uri": "https://localhost:8080/"
        },
        "id": "q2r4f8f4FYYC",
        "outputId": "5a2327dc-fa8b-4449-f34e-9ee5ca9ec6c4"
      },
      "execution_count": 220,
      "outputs": [
        {
          "output_type": "stream",
          "name": "stdout",
          "text": [
            "Время выполнения функции fib: 0.000001\n",
            "\n",
            "Время выполнения функции fib: 0.000001\n",
            "\n",
            "Время выполнения функции fib: 0.000001\n",
            "\n",
            "Время выполнения функции fib: 0.001233\n",
            "\n",
            "Время выполнения функции fib: 0.002942\n",
            "\n",
            "Время выполнения функции fib: 0.000001\n",
            "\n",
            "Время выполнения функции fib: 0.000001\n",
            "\n",
            "Время выполнения функции fib: 0.001153\n",
            "\n",
            "Время выполнения функции fib: 0.000001\n",
            "\n",
            "Время выполнения функции fib: 0.000001\n",
            "\n",
            "Время выполнения функции fib: 0.000001\n",
            "\n",
            "Время выполнения функции fib: 0.000049\n",
            "\n",
            "Время выполнения функции fib: 0.000097\n",
            "\n",
            "Время выполнения функции fib: 0.001489\n",
            "\n",
            "Время выполнения функции fib: 0.007053\n",
            "\n",
            "Число Фибоначии: 5\n"
          ]
        }
      ]
    },
    {
      "cell_type": "code",
      "source": [
        "# измеряем время выполнения с помощью модифицированного benchmark\n",
        "@benchmark_fib\n",
        "def fib(n):\n",
        "    if n < 2:\n",
        "        return n\n",
        "    return fib(n-2) + fib(n-1)\n",
        "\n",
        "\n",
        "print(f\"Число Фибоначии: {fib(7)}\")\n",
        "print(\"Время выполнения функции: \")\n",
        "print(round((fib.at), 8))\n",
        "\n"
      ],
      "metadata": {
        "id": "ZE4Rfn-hh3k3",
        "colab": {
          "base_uri": "https://localhost:8080/"
        },
        "outputId": "322297da-2635-4260-8505-54509303776a"
      },
      "execution_count": 206,
      "outputs": [
        {
          "output_type": "stream",
          "name": "stdout",
          "text": [
            "Число Фибоначии: 13\n",
            "Время выполнения функции: \n",
            "0.00039\n"
          ]
        }
      ]
    },
    {
      "cell_type": "code",
      "source": [
        "@memo\n",
        "def fib(n):\n",
        "    if n < 2:\n",
        "        return n\n",
        "    return fib(n-2) + fib(n-1)"
      ],
      "metadata": {
        "id": "W9B3e-t9iTUj"
      },
      "execution_count": 207,
      "outputs": []
    },
    {
      "cell_type": "code",
      "source": [
        "# измеряем время выполнения с помощью изначального benchmark\n",
        "@benchmark\n",
        "@memo\n",
        "def fib(n):\n",
        "    if n < 2:\n",
        "        return n\n",
        "    return fib(n-2) + fib(n-1)\n",
        "\n",
        "print(f\"Число Фибоначии: {fib(5)}\")"
      ],
      "metadata": {
        "colab": {
          "base_uri": "https://localhost:8080/"
        },
        "id": "CFzur7nRtu5Q",
        "outputId": "a6ab7aca-38d0-49a9-fe12-a1ef9a7f9b3f"
      },
      "execution_count": 236,
      "outputs": [
        {
          "output_type": "stream",
          "name": "stdout",
          "text": [
            "Время выполнения функции fmemo: 0.000002\n",
            "\n",
            "Время выполнения функции fmemo: 0.000002\n",
            "\n",
            "Время выполнения функции fmemo: 0.000002\n",
            "\n",
            "Время выполнения функции fmemo: 0.000296\n",
            "\n",
            "Время выполнения функции fmemo: 0.002534\n",
            "\n",
            "Время выполнения функции fmemo: 0.000001\n",
            "\n",
            "Время выполнения функции fmemo: 0.000001\n",
            "\n",
            "Время выполнения функции fmemo: 0.000061\n",
            "\n",
            "Время выполнения функции fmemo: 0.002644\n",
            "\n",
            "Число Фибоначии: 5\n"
          ]
        }
      ]
    },
    {
      "cell_type": "code",
      "source": [
        "# измеряем время выполнения с помощью модифицированного benchmark\n",
        "@benchmark_fib\n",
        "@memo\n",
        "def fib(n):\n",
        "    if n < 2:\n",
        "        return n\n",
        "    return fib(n-2) + fib(n-1)\n",
        "print(fib(7))\n",
        "print(round(fib.at, 8))"
      ],
      "metadata": {
        "id": "Sk6_4KQaidkh",
        "colab": {
          "base_uri": "https://localhost:8080/"
        },
        "outputId": "11087ac7-e151-4805-f6b4-4e99b1f31b55"
      },
      "execution_count": 237,
      "outputs": [
        {
          "output_type": "stream",
          "name": "stdout",
          "text": [
            "13\n",
            "0.000103\n"
          ]
        }
      ]
    }
  ]
}